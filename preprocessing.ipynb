{
 "cells": [
  {
   "cell_type": "code",
   "execution_count": 46,
   "metadata": {},
   "outputs": [],
   "source": [
    "import pandas as pd \n",
    "import numpy as np\n",
    "from nltk.sentiment.vader import SentimentIntensityAnalyzer\n",
    "import nltk\n",
    "import re"
   ]
  },
  {
   "cell_type": "code",
   "execution_count": 47,
   "metadata": {},
   "outputs": [],
   "source": [
    "data = pd.read_csv('Tesla.csv')"
   ]
  },
  {
   "cell_type": "code",
   "execution_count": 48,
   "metadata": {},
   "outputs": [],
   "source": [
    "cleaned_data = pd.DataFrame()\n",
    "cleaned_data['original_tweet'] = data['tweet']\n",
    "cleaned_data['cleaned_tweet'] = \"\"\n",
    "cleaned_data['sentiment'] = \"\"\n",
    "cleaned_data['compound_score'] = 0.0\n",
    "cleaned_data['positive_score'] = 0.0\n",
    "cleaned_data['negative_score'] = 0.0\n",
    "cleaned_data['neutral_score'] = 0.0"
   ]
  },
  {
   "cell_type": "code",
   "execution_count": 50,
   "metadata": {},
   "outputs": [],
   "source": [
    "#Preprocess our data to be a valid input for VADER\n",
    "# --> VADER can handle emojis, punctuation, capitalization, slang, and negations ... so don't need to remove these items\n",
    "\n",
    "cleaned_tweets = []\n",
    "for tweet in data[\"tweet\"]:\n",
    "    tweet = str(tweet)\n",
    "\n",
    "    #remove urls\n",
    "    tweet = re.sub(r'http\\S+|www\\S+|https\\S+', '', tweet)\n",
    "\n",
    "    #remove @'s\n",
    "    tweet = re.sub(r'@\\w+', '', tweet)\n",
    "\n",
    "    #remove #'s\n",
    "    tweet = re.sub(r'#', '', tweet)\n",
    "\n",
    "    #remove special chars\n",
    "    tweet = re.sub(r'[^\\w\\s]', '', tweet)\n",
    "\n",
    "    #remove nums\n",
    "    tweet = re.sub(r'\\d+', '', tweet)\n",
    "\n",
    "    #remove extra spaces\n",
    "    tweet = tweet.strip()\n",
    "\n",
    "    #add cleaned tweet to the arr\n",
    "    cleaned_tweets.append(tweet)\n",
    "\n",
    "cleaned_data[\"cleaned_tweet\"] = cleaned_tweets"
   ]
  },
  {
   "cell_type": "code",
   "execution_count": 51,
   "metadata": {},
   "outputs": [],
   "source": [
    "#create a VADER setniment analyzer:\n",
    "sentiment_analyzer = SentimentIntensityAnalyzer()\n",
    "\n",
    "# Get the sentiment/polarity score of each tweet:\n",
    "for i in range(len(cleaned_data)):\n",
    "\n",
    "    curr_tweet = cleaned_data[\"cleaned_tweet\"][i]\n",
    "    \n",
    "    # curr_score is a dictionary that stores a positive, negative, neutral, and compound score for an individual tweet\n",
    "    curr_score = sentiment_analyzer.polarity_scores(curr_tweet)\n",
    "\n",
    "    cleaned_data.loc[i, \"compound_score\"] = curr_score[\"compound\"]\n",
    "    cleaned_data.loc[i, \"positive_score\"] = curr_score[\"pos\"]\n",
    "    cleaned_data.loc[i, \"negative_score\"] = curr_score[\"neg\"]\n",
    "    cleaned_data.loc[i, \"neutral_score\"] = curr_score[\"neu\"]\n",
    "\n",
    "    # Determine sentiment category\n",
    "    if curr_score['compound'] >= 0.05:\n",
    "        cleaned_data.loc[i, 'sentiment'] = 'Positive'\n",
    "    elif curr_score['compound'] <= -0.05:\n",
    "        cleaned_data.loc[i, 'sentiment'] = 'Negative'\n",
    "    else:\n",
    "        cleaned_data.loc[i, 'sentiment'] = 'Neutral'\n"
   ]
  },
  {
   "cell_type": "code",
   "execution_count": 52,
   "metadata": {},
   "outputs": [
    {
     "name": "stdout",
     "output_type": "stream",
     "text": [
      "Number of columns: 7\n",
      "\n",
      "Column names:\n",
      "1. original_tweet\n",
      "2. cleaned_tweet\n",
      "3. sentiment\n",
      "4. compound_score\n",
      "5. positive_score\n",
      "6. negative_score\n",
      "7. neutral_score\n"
     ]
    }
   ],
   "source": [
    "# TESTING: \n",
    "\n",
    "\n",
    "# print(\"Total number of tweets:\", len(cleaned_data))\n",
    "# print(\"\\nSentiment Distribution:\")\n",
    "# print(cleaned_data['sentiment'].value_counts())\n",
    "# print(\"\\nAverage Scores:\")\n",
    "# print(\"Compound:\", cleaned_data['compound_score'].mean().round(3))\n",
    "# print(\"Positive:\", cleaned_data['positive_score'].mean().round(3))\n",
    "# print(\"Negative:\", cleaned_data['negative_score'].mean().round(3))\n",
    "# print(\"Neutral:\", cleaned_data['neutral_score'].mean().round(3))\n",
    "\n",
    "\n",
    "\n",
    "# Look at first 10 rows of cleaned_data dataframe (which stores our results):\n",
    "# print(cleaned_data.head(10))\n",
    "\n",
    "\n",
    "\n",
    "# print(\"Number of columns:\", cleaned_data.shape[1])\n",
    "\n",
    "\n",
    "\n",
    "# print(\"\\nColumn names:\")\n",
    "# for i, column in enumerate(cleaned_data.columns, 1):\n",
    "#     print(f\"{i}. {column}\")\n",
    "\n"
   ]
  }
 ],
 "metadata": {
  "kernelspec": {
   "display_name": "Python 3.9.6 64-bit",
   "language": "python",
   "name": "python3"
  },
  "language_info": {
   "codemirror_mode": {
    "name": "ipython",
    "version": 3
   },
   "file_extension": ".py",
   "mimetype": "text/x-python",
   "name": "python",
   "nbconvert_exporter": "python",
   "pygments_lexer": "ipython3",
   "version": "3.9.6"
  },
  "orig_nbformat": 4,
  "vscode": {
   "interpreter": {
    "hash": "31f2aee4e71d21fbe5cf8b01ff0e069b9275f58929596ceb00d14d90e3e16cd6"
   }
  }
 },
 "nbformat": 4,
 "nbformat_minor": 2
}
